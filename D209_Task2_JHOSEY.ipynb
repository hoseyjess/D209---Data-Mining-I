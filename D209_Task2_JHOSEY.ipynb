{
 "cells": [
  {
   "cell_type": "code",
   "execution_count": 2,
   "id": "b481a6cc-da3a-43a5-9808-a3cd149bc443",
   "metadata": {},
   "outputs": [
    {
     "name": "stdout",
     "output_type": "stream",
     "text": [
      "<class 'pandas.core.frame.DataFrame'>\n",
      "Index: 10000 entries, 1 to 10000\n",
      "Data columns (total 49 columns):\n",
      " #   Column              Non-Null Count  Dtype  \n",
      "---  ------              --------------  -----  \n",
      " 0   Customer_id         10000 non-null  object \n",
      " 1   Interaction         10000 non-null  object \n",
      " 2   UID                 10000 non-null  object \n",
      " 3   City                10000 non-null  object \n",
      " 4   State               10000 non-null  object \n",
      " 5   County              10000 non-null  object \n",
      " 6   Zip                 10000 non-null  int64  \n",
      " 7   Lat                 10000 non-null  float64\n",
      " 8   Lng                 10000 non-null  float64\n",
      " 9   Population          10000 non-null  int64  \n",
      " 10  Area                10000 non-null  object \n",
      " 11  TimeZone            10000 non-null  object \n",
      " 12  Job                 10000 non-null  object \n",
      " 13  Children            10000 non-null  int64  \n",
      " 14  Age                 10000 non-null  int64  \n",
      " 15  Income              10000 non-null  float64\n",
      " 16  Marital             10000 non-null  object \n",
      " 17  Gender              10000 non-null  object \n",
      " 18  ReAdmis             10000 non-null  object \n",
      " 19  VitD_levels         10000 non-null  float64\n",
      " 20  Doc_visits          10000 non-null  int64  \n",
      " 21  Full_meals_eaten    10000 non-null  int64  \n",
      " 22  vitD_supp           10000 non-null  int64  \n",
      " 23  Soft_drink          10000 non-null  object \n",
      " 24  Initial_admin       10000 non-null  object \n",
      " 25  HighBlood           10000 non-null  object \n",
      " 26  Stroke              10000 non-null  object \n",
      " 27  Complication_risk   10000 non-null  object \n",
      " 28  Overweight          10000 non-null  object \n",
      " 29  Arthritis           10000 non-null  object \n",
      " 30  Diabetes            10000 non-null  object \n",
      " 31  Hyperlipidemia      10000 non-null  object \n",
      " 32  BackPain            10000 non-null  object \n",
      " 33  Anxiety             10000 non-null  object \n",
      " 34  Allergic_rhinitis   10000 non-null  object \n",
      " 35  Reflux_esophagitis  10000 non-null  object \n",
      " 36  Asthma              10000 non-null  object \n",
      " 37  Services            10000 non-null  object \n",
      " 38  Initial_days        10000 non-null  float64\n",
      " 39  TotalCharge         10000 non-null  float64\n",
      " 40  Additional_charges  10000 non-null  float64\n",
      " 41  Item1               10000 non-null  int64  \n",
      " 42  Item2               10000 non-null  int64  \n",
      " 43  Item3               10000 non-null  int64  \n",
      " 44  Item4               10000 non-null  int64  \n",
      " 45  Item5               10000 non-null  int64  \n",
      " 46  Item6               10000 non-null  int64  \n",
      " 47  Item7               10000 non-null  int64  \n",
      " 48  Item8               10000 non-null  int64  \n",
      "dtypes: float64(7), int64(15), object(27)\n",
      "memory usage: 3.8+ MB\n"
     ]
    }
   ],
   "source": [
    "import pandas as pd\n",
    "from pandas.api.types import CategoricalDtype\n",
    "import numpy as np\n",
    "import matplotlib.pyplot as plt\n",
    "import seaborn as sns\n",
    "from sklearn.model_selection import train_test_split\n",
    "from sklearn.tree import DecisionTreeClassifier\n",
    "from sklearn.model_selection import GridSearchCV\n",
    "from sklearn.metrics import confusion_matrix\n",
    "from sklearn.metrics import roc_auc_score\n",
    "from sklearn.metrics import roc_curve\n",
    "from sklearn.metrics import classification_report\n",
    "from sklearn.preprocessing import OneHotEncoder\n",
    "from sklearn.metrics import accuracy_score \n",
    "from sklearn.metrics import mean_squared_error\n",
    "\n",
    "#Load Dataset\n",
    "df = pd.read_csv('./medical_clean_task2.csv', index_col=0)\n",
    "\n",
    "#View Dataframe\n",
    "df.info()"
   ]
  },
  {
   "cell_type": "code",
   "execution_count": 3,
   "id": "3b886772-8245-45c5-a1e4-670b3da59a5a",
   "metadata": {},
   "outputs": [
    {
     "data": {
      "text/html": [
       "<div>\n",
       "<style scoped>\n",
       "    .dataframe tbody tr th:only-of-type {\n",
       "        vertical-align: middle;\n",
       "    }\n",
       "\n",
       "    .dataframe tbody tr th {\n",
       "        vertical-align: top;\n",
       "    }\n",
       "\n",
       "    .dataframe thead th {\n",
       "        text-align: right;\n",
       "    }\n",
       "</style>\n",
       "<table border=\"1\" class=\"dataframe\">\n",
       "  <thead>\n",
       "    <tr style=\"text-align: right;\">\n",
       "      <th></th>\n",
       "      <th>Customer_id</th>\n",
       "      <th>Interaction</th>\n",
       "      <th>UID</th>\n",
       "      <th>City</th>\n",
       "      <th>State</th>\n",
       "      <th>County</th>\n",
       "      <th>Zip</th>\n",
       "      <th>Lat</th>\n",
       "      <th>Lng</th>\n",
       "      <th>Population</th>\n",
       "      <th>...</th>\n",
       "      <th>TotalCharge</th>\n",
       "      <th>Additional_charges</th>\n",
       "      <th>Item1</th>\n",
       "      <th>Item2</th>\n",
       "      <th>Item3</th>\n",
       "      <th>Item4</th>\n",
       "      <th>Item5</th>\n",
       "      <th>Item6</th>\n",
       "      <th>Item7</th>\n",
       "      <th>Item8</th>\n",
       "    </tr>\n",
       "    <tr>\n",
       "      <th>CaseOrder</th>\n",
       "      <th></th>\n",
       "      <th></th>\n",
       "      <th></th>\n",
       "      <th></th>\n",
       "      <th></th>\n",
       "      <th></th>\n",
       "      <th></th>\n",
       "      <th></th>\n",
       "      <th></th>\n",
       "      <th></th>\n",
       "      <th></th>\n",
       "      <th></th>\n",
       "      <th></th>\n",
       "      <th></th>\n",
       "      <th></th>\n",
       "      <th></th>\n",
       "      <th></th>\n",
       "      <th></th>\n",
       "      <th></th>\n",
       "      <th></th>\n",
       "      <th></th>\n",
       "    </tr>\n",
       "  </thead>\n",
       "  <tbody>\n",
       "    <tr>\n",
       "      <th>1</th>\n",
       "      <td>C412403</td>\n",
       "      <td>8cd49b13-f45a-4b47-a2bd-173ffa932c2f</td>\n",
       "      <td>3a83ddb66e2ae73798bdf1d705dc0932</td>\n",
       "      <td>Eva</td>\n",
       "      <td>AL</td>\n",
       "      <td>Morgan</td>\n",
       "      <td>35621</td>\n",
       "      <td>34.34960</td>\n",
       "      <td>-86.72508</td>\n",
       "      <td>2951</td>\n",
       "      <td>...</td>\n",
       "      <td>3726.702860</td>\n",
       "      <td>17939.403420</td>\n",
       "      <td>3</td>\n",
       "      <td>3</td>\n",
       "      <td>2</td>\n",
       "      <td>2</td>\n",
       "      <td>4</td>\n",
       "      <td>3</td>\n",
       "      <td>3</td>\n",
       "      <td>4</td>\n",
       "    </tr>\n",
       "    <tr>\n",
       "      <th>2</th>\n",
       "      <td>Z919181</td>\n",
       "      <td>d2450b70-0337-4406-bdbb-bc1037f1734c</td>\n",
       "      <td>176354c5eef714957d486009feabf195</td>\n",
       "      <td>Marianna</td>\n",
       "      <td>FL</td>\n",
       "      <td>Jackson</td>\n",
       "      <td>32446</td>\n",
       "      <td>30.84513</td>\n",
       "      <td>-85.22907</td>\n",
       "      <td>11303</td>\n",
       "      <td>...</td>\n",
       "      <td>4193.190458</td>\n",
       "      <td>17612.998120</td>\n",
       "      <td>3</td>\n",
       "      <td>4</td>\n",
       "      <td>3</td>\n",
       "      <td>4</td>\n",
       "      <td>4</td>\n",
       "      <td>4</td>\n",
       "      <td>3</td>\n",
       "      <td>3</td>\n",
       "    </tr>\n",
       "    <tr>\n",
       "      <th>3</th>\n",
       "      <td>F995323</td>\n",
       "      <td>a2057123-abf5-4a2c-abad-8ffe33512562</td>\n",
       "      <td>e19a0fa00aeda885b8a436757e889bc9</td>\n",
       "      <td>Sioux Falls</td>\n",
       "      <td>SD</td>\n",
       "      <td>Minnehaha</td>\n",
       "      <td>57110</td>\n",
       "      <td>43.54321</td>\n",
       "      <td>-96.63772</td>\n",
       "      <td>17125</td>\n",
       "      <td>...</td>\n",
       "      <td>2434.234222</td>\n",
       "      <td>17505.192460</td>\n",
       "      <td>2</td>\n",
       "      <td>4</td>\n",
       "      <td>4</td>\n",
       "      <td>4</td>\n",
       "      <td>3</td>\n",
       "      <td>4</td>\n",
       "      <td>3</td>\n",
       "      <td>3</td>\n",
       "    </tr>\n",
       "    <tr>\n",
       "      <th>4</th>\n",
       "      <td>A879973</td>\n",
       "      <td>1dec528d-eb34-4079-adce-0d7a40e82205</td>\n",
       "      <td>cd17d7b6d152cb6f23957346d11c3f07</td>\n",
       "      <td>New Richland</td>\n",
       "      <td>MN</td>\n",
       "      <td>Waseca</td>\n",
       "      <td>56072</td>\n",
       "      <td>43.89744</td>\n",
       "      <td>-93.51479</td>\n",
       "      <td>2162</td>\n",
       "      <td>...</td>\n",
       "      <td>2127.830423</td>\n",
       "      <td>12993.437350</td>\n",
       "      <td>3</td>\n",
       "      <td>5</td>\n",
       "      <td>5</td>\n",
       "      <td>3</td>\n",
       "      <td>4</td>\n",
       "      <td>5</td>\n",
       "      <td>5</td>\n",
       "      <td>5</td>\n",
       "    </tr>\n",
       "    <tr>\n",
       "      <th>5</th>\n",
       "      <td>C544523</td>\n",
       "      <td>5885f56b-d6da-43a3-8760-83583af94266</td>\n",
       "      <td>d2f0425877b10ed6bb381f3e2579424a</td>\n",
       "      <td>West Point</td>\n",
       "      <td>VA</td>\n",
       "      <td>King William</td>\n",
       "      <td>23181</td>\n",
       "      <td>37.59894</td>\n",
       "      <td>-76.88958</td>\n",
       "      <td>5287</td>\n",
       "      <td>...</td>\n",
       "      <td>2113.073274</td>\n",
       "      <td>3716.525786</td>\n",
       "      <td>2</td>\n",
       "      <td>1</td>\n",
       "      <td>3</td>\n",
       "      <td>3</td>\n",
       "      <td>5</td>\n",
       "      <td>3</td>\n",
       "      <td>4</td>\n",
       "      <td>3</td>\n",
       "    </tr>\n",
       "  </tbody>\n",
       "</table>\n",
       "<p>5 rows × 49 columns</p>\n",
       "</div>"
      ],
      "text/plain": [
       "          Customer_id                           Interaction  \\\n",
       "CaseOrder                                                     \n",
       "1             C412403  8cd49b13-f45a-4b47-a2bd-173ffa932c2f   \n",
       "2             Z919181  d2450b70-0337-4406-bdbb-bc1037f1734c   \n",
       "3             F995323  a2057123-abf5-4a2c-abad-8ffe33512562   \n",
       "4             A879973  1dec528d-eb34-4079-adce-0d7a40e82205   \n",
       "5             C544523  5885f56b-d6da-43a3-8760-83583af94266   \n",
       "\n",
       "                                        UID          City State        County  \\\n",
       "CaseOrder                                                                       \n",
       "1          3a83ddb66e2ae73798bdf1d705dc0932           Eva    AL        Morgan   \n",
       "2          176354c5eef714957d486009feabf195      Marianna    FL       Jackson   \n",
       "3          e19a0fa00aeda885b8a436757e889bc9   Sioux Falls    SD     Minnehaha   \n",
       "4          cd17d7b6d152cb6f23957346d11c3f07  New Richland    MN        Waseca   \n",
       "5          d2f0425877b10ed6bb381f3e2579424a    West Point    VA  King William   \n",
       "\n",
       "             Zip       Lat       Lng  Population  ...  TotalCharge  \\\n",
       "CaseOrder                                         ...                \n",
       "1          35621  34.34960 -86.72508        2951  ...  3726.702860   \n",
       "2          32446  30.84513 -85.22907       11303  ...  4193.190458   \n",
       "3          57110  43.54321 -96.63772       17125  ...  2434.234222   \n",
       "4          56072  43.89744 -93.51479        2162  ...  2127.830423   \n",
       "5          23181  37.59894 -76.88958        5287  ...  2113.073274   \n",
       "\n",
       "          Additional_charges Item1  Item2  Item3  Item4 Item5 Item6 Item7  \\\n",
       "CaseOrder                                                                   \n",
       "1               17939.403420     3      3      2      2     4     3     3   \n",
       "2               17612.998120     3      4      3      4     4     4     3   \n",
       "3               17505.192460     2      4      4      4     3     4     3   \n",
       "4               12993.437350     3      5      5      3     4     5     5   \n",
       "5                3716.525786     2      1      3      3     5     3     4   \n",
       "\n",
       "           Item8  \n",
       "CaseOrder         \n",
       "1              4  \n",
       "2              3  \n",
       "3              3  \n",
       "4              5  \n",
       "5              3  \n",
       "\n",
       "[5 rows x 49 columns]"
      ]
     },
     "execution_count": 3,
     "metadata": {},
     "output_type": "execute_result"
    }
   ],
   "source": [
    "#Inspect Dataframe's information\n",
    "df.head()"
   ]
  },
  {
   "cell_type": "code",
   "execution_count": 4,
   "id": "74442615-bf03-480d-b65b-fc307bb1c216",
   "metadata": {},
   "outputs": [
    {
     "data": {
      "text/html": [
       "<div>\n",
       "<style scoped>\n",
       "    .dataframe tbody tr th:only-of-type {\n",
       "        vertical-align: middle;\n",
       "    }\n",
       "\n",
       "    .dataframe tbody tr th {\n",
       "        vertical-align: top;\n",
       "    }\n",
       "\n",
       "    .dataframe thead th {\n",
       "        text-align: right;\n",
       "    }\n",
       "</style>\n",
       "<table border=\"1\" class=\"dataframe\">\n",
       "  <thead>\n",
       "    <tr style=\"text-align: right;\">\n",
       "      <th></th>\n",
       "      <th>Customer_id</th>\n",
       "      <th>Interaction</th>\n",
       "      <th>UID</th>\n",
       "      <th>City</th>\n",
       "      <th>State</th>\n",
       "      <th>County</th>\n",
       "      <th>Zip</th>\n",
       "      <th>Lat</th>\n",
       "      <th>Lng</th>\n",
       "      <th>Population</th>\n",
       "      <th>...</th>\n",
       "      <th>TotalCharge</th>\n",
       "      <th>Additional_charges</th>\n",
       "      <th>Item1</th>\n",
       "      <th>Item2</th>\n",
       "      <th>Item3</th>\n",
       "      <th>Item4</th>\n",
       "      <th>Item5</th>\n",
       "      <th>Item6</th>\n",
       "      <th>Item7</th>\n",
       "      <th>Item8</th>\n",
       "    </tr>\n",
       "    <tr>\n",
       "      <th>CaseOrder</th>\n",
       "      <th></th>\n",
       "      <th></th>\n",
       "      <th></th>\n",
       "      <th></th>\n",
       "      <th></th>\n",
       "      <th></th>\n",
       "      <th></th>\n",
       "      <th></th>\n",
       "      <th></th>\n",
       "      <th></th>\n",
       "      <th></th>\n",
       "      <th></th>\n",
       "      <th></th>\n",
       "      <th></th>\n",
       "      <th></th>\n",
       "      <th></th>\n",
       "      <th></th>\n",
       "      <th></th>\n",
       "      <th></th>\n",
       "      <th></th>\n",
       "      <th></th>\n",
       "    </tr>\n",
       "  </thead>\n",
       "  <tbody>\n",
       "    <tr>\n",
       "      <th>1</th>\n",
       "      <td>C412403</td>\n",
       "      <td>8cd49b13-f45a-4b47-a2bd-173ffa932c2f</td>\n",
       "      <td>3a83ddb66e2ae73798bdf1d705dc0932</td>\n",
       "      <td>Eva</td>\n",
       "      <td>AL</td>\n",
       "      <td>Morgan</td>\n",
       "      <td>35621</td>\n",
       "      <td>34.34960</td>\n",
       "      <td>-86.72508</td>\n",
       "      <td>2951</td>\n",
       "      <td>...</td>\n",
       "      <td>3726.703</td>\n",
       "      <td>17939.403</td>\n",
       "      <td>6</td>\n",
       "      <td>6</td>\n",
       "      <td>7</td>\n",
       "      <td>7</td>\n",
       "      <td>5</td>\n",
       "      <td>6</td>\n",
       "      <td>6</td>\n",
       "      <td>5</td>\n",
       "    </tr>\n",
       "    <tr>\n",
       "      <th>2</th>\n",
       "      <td>Z919181</td>\n",
       "      <td>d2450b70-0337-4406-bdbb-bc1037f1734c</td>\n",
       "      <td>176354c5eef714957d486009feabf195</td>\n",
       "      <td>Marianna</td>\n",
       "      <td>FL</td>\n",
       "      <td>Jackson</td>\n",
       "      <td>32446</td>\n",
       "      <td>30.84513</td>\n",
       "      <td>-85.22907</td>\n",
       "      <td>11303</td>\n",
       "      <td>...</td>\n",
       "      <td>4193.190</td>\n",
       "      <td>17612.998</td>\n",
       "      <td>6</td>\n",
       "      <td>5</td>\n",
       "      <td>6</td>\n",
       "      <td>5</td>\n",
       "      <td>5</td>\n",
       "      <td>5</td>\n",
       "      <td>6</td>\n",
       "      <td>6</td>\n",
       "    </tr>\n",
       "    <tr>\n",
       "      <th>3</th>\n",
       "      <td>F995323</td>\n",
       "      <td>a2057123-abf5-4a2c-abad-8ffe33512562</td>\n",
       "      <td>e19a0fa00aeda885b8a436757e889bc9</td>\n",
       "      <td>Sioux Falls</td>\n",
       "      <td>SD</td>\n",
       "      <td>Minnehaha</td>\n",
       "      <td>57110</td>\n",
       "      <td>43.54321</td>\n",
       "      <td>-96.63772</td>\n",
       "      <td>17125</td>\n",
       "      <td>...</td>\n",
       "      <td>2434.234</td>\n",
       "      <td>17505.192</td>\n",
       "      <td>7</td>\n",
       "      <td>5</td>\n",
       "      <td>5</td>\n",
       "      <td>5</td>\n",
       "      <td>6</td>\n",
       "      <td>5</td>\n",
       "      <td>6</td>\n",
       "      <td>6</td>\n",
       "    </tr>\n",
       "    <tr>\n",
       "      <th>4</th>\n",
       "      <td>A879973</td>\n",
       "      <td>1dec528d-eb34-4079-adce-0d7a40e82205</td>\n",
       "      <td>cd17d7b6d152cb6f23957346d11c3f07</td>\n",
       "      <td>New Richland</td>\n",
       "      <td>MN</td>\n",
       "      <td>Waseca</td>\n",
       "      <td>56072</td>\n",
       "      <td>43.89744</td>\n",
       "      <td>-93.51479</td>\n",
       "      <td>2162</td>\n",
       "      <td>...</td>\n",
       "      <td>2127.830</td>\n",
       "      <td>12993.437</td>\n",
       "      <td>6</td>\n",
       "      <td>4</td>\n",
       "      <td>4</td>\n",
       "      <td>6</td>\n",
       "      <td>5</td>\n",
       "      <td>4</td>\n",
       "      <td>4</td>\n",
       "      <td>4</td>\n",
       "    </tr>\n",
       "    <tr>\n",
       "      <th>5</th>\n",
       "      <td>C544523</td>\n",
       "      <td>5885f56b-d6da-43a3-8760-83583af94266</td>\n",
       "      <td>d2f0425877b10ed6bb381f3e2579424a</td>\n",
       "      <td>West Point</td>\n",
       "      <td>VA</td>\n",
       "      <td>King William</td>\n",
       "      <td>23181</td>\n",
       "      <td>37.59894</td>\n",
       "      <td>-76.88958</td>\n",
       "      <td>5287</td>\n",
       "      <td>...</td>\n",
       "      <td>2113.073</td>\n",
       "      <td>3716.526</td>\n",
       "      <td>7</td>\n",
       "      <td>8</td>\n",
       "      <td>6</td>\n",
       "      <td>6</td>\n",
       "      <td>4</td>\n",
       "      <td>6</td>\n",
       "      <td>5</td>\n",
       "      <td>6</td>\n",
       "    </tr>\n",
       "  </tbody>\n",
       "</table>\n",
       "<p>5 rows × 49 columns</p>\n",
       "</div>"
      ],
      "text/plain": [
       "          Customer_id                           Interaction  \\\n",
       "CaseOrder                                                     \n",
       "1             C412403  8cd49b13-f45a-4b47-a2bd-173ffa932c2f   \n",
       "2             Z919181  d2450b70-0337-4406-bdbb-bc1037f1734c   \n",
       "3             F995323  a2057123-abf5-4a2c-abad-8ffe33512562   \n",
       "4             A879973  1dec528d-eb34-4079-adce-0d7a40e82205   \n",
       "5             C544523  5885f56b-d6da-43a3-8760-83583af94266   \n",
       "\n",
       "                                        UID          City State        County  \\\n",
       "CaseOrder                                                                       \n",
       "1          3a83ddb66e2ae73798bdf1d705dc0932           Eva    AL        Morgan   \n",
       "2          176354c5eef714957d486009feabf195      Marianna    FL       Jackson   \n",
       "3          e19a0fa00aeda885b8a436757e889bc9   Sioux Falls    SD     Minnehaha   \n",
       "4          cd17d7b6d152cb6f23957346d11c3f07  New Richland    MN        Waseca   \n",
       "5          d2f0425877b10ed6bb381f3e2579424a    West Point    VA  King William   \n",
       "\n",
       "             Zip       Lat       Lng  Population  ... TotalCharge  \\\n",
       "CaseOrder                                         ...               \n",
       "1          35621  34.34960 -86.72508        2951  ...    3726.703   \n",
       "2          32446  30.84513 -85.22907       11303  ...    4193.190   \n",
       "3          57110  43.54321 -96.63772       17125  ...    2434.234   \n",
       "4          56072  43.89744 -93.51479        2162  ...    2127.830   \n",
       "5          23181  37.59894 -76.88958        5287  ...    2113.073   \n",
       "\n",
       "          Additional_charges Item1  Item2  Item3  Item4 Item5 Item6  Item7  \\\n",
       "CaseOrder                                                                    \n",
       "1                  17939.403     6      6      7      7     5     6      6   \n",
       "2                  17612.998     6      5      6      5     5     5      6   \n",
       "3                  17505.192     7      5      5      5     6     5      6   \n",
       "4                  12993.437     6      4      4      6     5     4      4   \n",
       "5                   3716.526     7      8      6      6     4     6      5   \n",
       "\n",
       "           Item8  \n",
       "CaseOrder         \n",
       "1              5  \n",
       "2              6  \n",
       "3              6  \n",
       "4              4  \n",
       "5              6  \n",
       "\n",
       "[5 rows x 49 columns]"
      ]
     },
     "execution_count": 4,
     "metadata": {},
     "output_type": "execute_result"
    }
   ],
   "source": [
    "#Convert column to string from int, then front-fill string with 0's to reach 5 chars\n",
    "df['Zip'] = df['Zip'].astype(\"str\").str.zfill(5)\n",
    "#Convert column to category from string\n",
    "df[\"Area\"] = df[\"Area\"].astype(\"category\")\n",
    "#Convert column to category from string\n",
    "df[\"TimeZone\"] = df[\"TimeZone\"].astype(\"category\")\n",
    "#Reformat column representing currency in USD to 3 decimal places from 6\n",
    "df[\"Income\"] = df[\"Income\"].astype(int)\n",
    "#Convert column to category from string\n",
    "df[\"Marital\"] = df[\"Marital\"].astype(\"category\")\n",
    "#Convert column to category from string\n",
    "df[\"Gender\"] = df[\"Gender\"].astype(\"category\")\n",
    "#Recast object > boolean wants to turn everything True, need to map Yes/No to True/False\n",
    "bool_mapping = {\"Yes\" : 1, \"No\" : 0}\n",
    "#Convert column to boolean from string\n",
    "df[\"ReAdmis\"] = df[\"ReAdmis\"].map(bool_mapping)\n",
    "#Convert column to boolean from string\n",
    "df[\"Soft_drink\"] = df[\"Soft_drink\"].map(bool_mapping)\n",
    "#Convert column to category from string\n",
    "df[\"Initial_admin\"] = df[\"Initial_admin\"].astype(\"category\")\n",
    "#Convert column to boolean from string\n",
    "df[\"HighBlood\"] = df[\"HighBlood\"].map(bool_mapping)\n",
    "#Convert column to boolean from string\n",
    "df[\"Stroke\"] = df[\"Stroke\"].map(bool_mapping)\n",
    "#Convert column to category from string\n",
    "df[\"Complication_risk\"] = df[\"Complication_risk\"].astype(\"category\")\n",
    "#Convert column to boolean from string\n",
    "df[\"Overweight\"] = df[\"Overweight\"].map(bool_mapping)\n",
    "#Convert column to boolean from string\n",
    "df[\"Arthritis\"] = df[\"Arthritis\"].map(bool_mapping)\n",
    "#Convert column to boolean from string\n",
    "df[\"Diabetes\"] = df[\"Diabetes\"].map(bool_mapping)\n",
    "#Convert column to boolean from string\n",
    "df[\"Hyperlipidemia\"] = df[\"Hyperlipidemia\"].map(bool_mapping)\n",
    "#Convert column to boolean from string\n",
    "df[\"BackPain\"] = df[\"BackPain\"].map(bool_mapping)\n",
    "#Convert column to boolean from string\n",
    "df[\"Anxiety\"] = df[\"Anxiety\"].map(bool_mapping)\n",
    "#Convert column to boolean from string\n",
    "df[\"Allergic_rhinitis\"] = df[\"Allergic_rhinitis\"].map(bool_mapping)\n",
    "#Convert column to boolean from string\n",
    "df[\"Reflux_esophagitis\"] = df[\"Reflux_esophagitis\"].map(bool_mapping)\n",
    "#Convert column to boolean from string\n",
    "df[\"Asthma\"] = df[\"Asthma\"].map(bool_mapping)\n",
    "#Convert column to category from string\n",
    "df[\"Services\"] = df[\"Services\"].astype(\"category\")\n",
    "#Reformat column representing currency in USD to 3 decimal places from 6\n",
    "df[\"TotalCharge\"] = df.TotalCharge.round(3)\n",
    "#Reformat column representing currency in USD to 3 decimal places from 6\n",
    "df[\"Additional_charges\"] = df.Additional_charges.round(3)\n",
    "\n",
    "#Establish map for reversing survey questions to reflect a truth where 1 < 8 (currently the reverse)\n",
    "survey_mapping = {1: 8, 2: 7, 3 : 6, 4: 5, 5: 4, 6: 3, 7 : 2, 8 : 1}\n",
    "#Establish ordered categorical datatype structure (\"1\" < \"2\" < ... < \"7\" < \"8\") for survey response columns\n",
    "survey_scores = CategoricalDtype(categories=[\"1\", \"2\", \"3\", \"4\", \"5\", \"6\", \"7\", \"8\"], ordered=True)\n",
    "#Remap column to reflect 1 < 8, rather than 1 > 8\n",
    "df[\"Item1\"] = df[\"Item1\"].map(survey_mapping)\n",
    "#Map integers to be strings instead (conversion from int > ordered categorical will act up without this)\n",
    "df[\"Item1\"] = df[\"Item1\"].map(str)\n",
    "#Reassign datatype from strings to created survey_scores datatype \n",
    "df[\"Item1\"] = df[\"Item1\"].astype(survey_scores)\n",
    "#Remap column to reflect 1 < 8, rather than 1 > 8\n",
    "df[\"Item2\"] = df[\"Item2\"].map(survey_mapping)\n",
    "#Map integers to be strings instead (conversion from int > ordered categorical will act up without this)\n",
    "df[\"Item2\"] = df[\"Item2\"].map(str)\n",
    "#Reassign datatype from strings to created survey_scores datatype \n",
    "df[\"Item2\"] = df[\"Item2\"].astype(survey_scores)\n",
    "#Remap column to reflect 1 < 8, rather than 1 > 8\n",
    "df[\"Item3\"] = df[\"Item3\"].map(survey_mapping)\n",
    "#Map integers to be strings instead (conversion from int > ordered categorical will act up without this)\n",
    "df[\"Item3\"] = df[\"Item3\"].map(str)\n",
    "#Reassign datatype from strings to created survey_scores datatype \n",
    "df[\"Item3\"] = df[\"Item3\"].astype(survey_scores)\n",
    "#Remap column to reflect 1 < 8, rather than 1 > 8\n",
    "df[\"Item4\"] = df[\"Item4\"].map(survey_mapping)\n",
    "#Map integers to be strings instead (conversion from int > ordered categorical will act up without this)\n",
    "df[\"Item4\"] = df[\"Item4\"].map(str)\n",
    "#Reassign datatype from strings to created survey_scores datatype \n",
    "df[\"Item4\"] = df[\"Item4\"].astype(survey_scores)\n",
    "#Remap column to reflect 1 < 8, rather than 1 > 8\n",
    "df[\"Item5\"] = df[\"Item5\"].map(survey_mapping)\n",
    "#Map integers to be strings instead (conversion from int > ordered categorical will act up without this)\n",
    "df[\"Item5\"] = df[\"Item5\"].map(str)\n",
    "#Reassign datatype from strings to created survey_scores datatype \n",
    "df[\"Item5\"] = df[\"Item5\"].astype(survey_scores)\n",
    "#Remap column to reflect 1 < 8, rather than 1 > 8\n",
    "df[\"Item6\"] = df[\"Item6\"].map(survey_mapping)\n",
    "#Map integers to be strings instead (conversion from int > ordered categorical will act up without this)\n",
    "df[\"Item6\"] = df[\"Item6\"].map(str)\n",
    "#Reassign datatype from strings to created survey_scores datatype \n",
    "df[\"Item6\"] = df[\"Item6\"].astype(survey_scores)\n",
    "#Remap column to reflect 1 < 8, rather than 1 > 8\n",
    "df[\"Item7\"] = df[\"Item7\"].map(survey_mapping)\n",
    "#Map integers to be strings instead (conversion from int > ordered categorical will act up without this)\n",
    "df[\"Item7\"] = df[\"Item7\"].map(str)\n",
    "#Reassign datatype from strings to created survey_scores datatype \n",
    "df[\"Item7\"] = df[\"Item7\"].astype(survey_scores)\n",
    "#Remap column to reflect 1 < 8, rather than 1 > 8\n",
    "df[\"Item8\"] = df[\"Item8\"].map(survey_mapping)\n",
    "#Map integers to be strings instead (conversion from int > ordered categorical will act up without this)\n",
    "df[\"Item8\"] = df[\"Item8\"].map(str)\n",
    "#Reassign datatype from strings to created survey_scores datatype \n",
    "df[\"Item8\"] = df[\"Item8\"].astype(survey_scores)\n",
    "df.head()"
   ]
  },
  {
   "cell_type": "markdown",
   "id": "e635fbc6-af71-4b07-a5c8-69015869a2a4",
   "metadata": {},
   "source": [
    "#Looking at Variable Stats and Counts"
   ]
  },
  {
   "cell_type": "code",
   "execution_count": 5,
   "id": "cb1cdf52-86fc-4717-a4a4-9c1277642c68",
   "metadata": {},
   "outputs": [
    {
     "data": {
      "text/plain": [
       "Area\n",
       "Rural       3369\n",
       "Suburban    3328\n",
       "Urban       3303\n",
       "Name: count, dtype: int64"
      ]
     },
     "execution_count": 5,
     "metadata": {},
     "output_type": "execute_result"
    }
   ],
   "source": [
    "df.Area.value_counts()"
   ]
  },
  {
   "cell_type": "code",
   "execution_count": 6,
   "id": "a33d2359-f620-4620-b0d3-9fb5ff5e275c",
   "metadata": {},
   "outputs": [
    {
     "data": {
      "text/plain": [
       "Children\n",
       "0     2548\n",
       "1     2509\n",
       "2     1475\n",
       "3     1489\n",
       "4      995\n",
       "5      169\n",
       "6      191\n",
       "7      213\n",
       "8      209\n",
       "9      108\n",
       "10      94\n",
       "Name: count, dtype: int64"
      ]
     },
     "execution_count": 6,
     "metadata": {},
     "output_type": "execute_result"
    }
   ],
   "source": [
    "df.Children.value_counts().sort_index()"
   ]
  },
  {
   "cell_type": "code",
   "execution_count": 7,
   "id": "50c4fc4d-f0c8-4816-85de-88211ac62f78",
   "metadata": {},
   "outputs": [
    {
     "data": {
      "text/plain": [
       "count    10000.000000\n",
       "mean        53.511700\n",
       "std         20.638538\n",
       "min         18.000000\n",
       "25%         36.000000\n",
       "50%         53.000000\n",
       "75%         71.000000\n",
       "max         89.000000\n",
       "Name: Age, dtype: float64"
      ]
     },
     "execution_count": 7,
     "metadata": {},
     "output_type": "execute_result"
    }
   ],
   "source": [
    "df.Age.describe()"
   ]
  },
  {
   "cell_type": "code",
   "execution_count": 8,
   "id": "fc60b042-ca40-4b97-a479-776c31b9f672",
   "metadata": {},
   "outputs": [
    {
     "data": {
      "text/plain": [
       "Gender\n",
       "Female       5018\n",
       "Male         4768\n",
       "Nonbinary     214\n",
       "Name: count, dtype: int64"
      ]
     },
     "execution_count": 8,
     "metadata": {},
     "output_type": "execute_result"
    }
   ],
   "source": [
    "df.Gender.value_counts()"
   ]
  },
  {
   "cell_type": "code",
   "execution_count": 9,
   "id": "887aa196-c969-4107-9293-07bdca7c07c2",
   "metadata": {},
   "outputs": [
    {
     "data": {
      "text/plain": [
       "ReAdmis\n",
       "0    6331\n",
       "1    3669\n",
       "Name: count, dtype: int64"
      ]
     },
     "execution_count": 9,
     "metadata": {},
     "output_type": "execute_result"
    }
   ],
   "source": [
    "df.ReAdmis.value_counts()"
   ]
  },
  {
   "cell_type": "code",
   "execution_count": 10,
   "id": "0ddc12b3-4550-4a0f-a990-ddfacee83653",
   "metadata": {},
   "outputs": [
    {
     "data": {
      "text/plain": [
       "count    10000.000000\n",
       "mean        17.964262\n",
       "std          2.017231\n",
       "min          9.806483\n",
       "25%         16.626439\n",
       "50%         17.951122\n",
       "75%         19.347963\n",
       "max         26.394449\n",
       "Name: VitD_levels, dtype: float64"
      ]
     },
     "execution_count": 10,
     "metadata": {},
     "output_type": "execute_result"
    }
   ],
   "source": [
    "df.VitD_levels.describe()"
   ]
  },
  {
   "cell_type": "code",
   "execution_count": 11,
   "id": "279887f9-e923-4a3f-a447-6fb53666e954",
   "metadata": {},
   "outputs": [
    {
     "data": {
      "text/plain": [
       "count    10000.000000\n",
       "mean         5.012200\n",
       "std          1.045734\n",
       "min          1.000000\n",
       "25%          4.000000\n",
       "50%          5.000000\n",
       "75%          6.000000\n",
       "max          9.000000\n",
       "Name: Doc_visits, dtype: float64"
      ]
     },
     "execution_count": 11,
     "metadata": {},
     "output_type": "execute_result"
    }
   ],
   "source": [
    "df.Doc_visits.describe()"
   ]
  },
  {
   "cell_type": "code",
   "execution_count": 12,
   "id": "2d5f831a-6698-40ac-9e90-06f8de9ed5eb",
   "metadata": {},
   "outputs": [
    {
     "data": {
      "text/plain": [
       "count    10000.000000\n",
       "mean         1.001400\n",
       "std          1.008117\n",
       "min          0.000000\n",
       "25%          0.000000\n",
       "50%          1.000000\n",
       "75%          2.000000\n",
       "max          7.000000\n",
       "Name: Full_meals_eaten, dtype: float64"
      ]
     },
     "execution_count": 12,
     "metadata": {},
     "output_type": "execute_result"
    }
   ],
   "source": [
    "df.Full_meals_eaten.describe()"
   ]
  },
  {
   "cell_type": "code",
   "execution_count": 13,
   "id": "1513cc86-7ac2-4126-a695-725bcded63c9",
   "metadata": {},
   "outputs": [
    {
     "data": {
      "text/plain": [
       "count    10000.000000\n",
       "mean         0.398900\n",
       "std          0.628505\n",
       "min          0.000000\n",
       "25%          0.000000\n",
       "50%          0.000000\n",
       "75%          1.000000\n",
       "max          5.000000\n",
       "Name: vitD_supp, dtype: float64"
      ]
     },
     "execution_count": 13,
     "metadata": {},
     "output_type": "execute_result"
    }
   ],
   "source": [
    "df.vitD_supp.describe()"
   ]
  },
  {
   "cell_type": "code",
   "execution_count": 14,
   "id": "caaf1422-aee3-48a1-83f7-9490e4ec79cd",
   "metadata": {},
   "outputs": [
    {
     "data": {
      "text/plain": [
       "Soft_drink\n",
       "0    7425\n",
       "1    2575\n",
       "Name: count, dtype: int64"
      ]
     },
     "execution_count": 14,
     "metadata": {},
     "output_type": "execute_result"
    }
   ],
   "source": [
    "df.Soft_drink.value_counts()"
   ]
  },
  {
   "cell_type": "code",
   "execution_count": 15,
   "id": "f6bb17ed-9003-4fbf-993b-c30867214e2a",
   "metadata": {},
   "outputs": [
    {
     "data": {
      "text/plain": [
       "Initial_admin\n",
       "Elective Admission       2504\n",
       "Emergency Admission      5060\n",
       "Observation Admission    2436\n",
       "Name: count, dtype: int64"
      ]
     },
     "execution_count": 15,
     "metadata": {},
     "output_type": "execute_result"
    }
   ],
   "source": [
    "df.Initial_admin.value_counts().sort_index()"
   ]
  },
  {
   "cell_type": "code",
   "execution_count": 16,
   "id": "ff13469c-71e0-44ce-bc44-366245723c77",
   "metadata": {},
   "outputs": [
    {
     "data": {
      "text/plain": [
       "HighBlood\n",
       "0    5910\n",
       "1    4090\n",
       "Name: count, dtype: int64"
      ]
     },
     "execution_count": 16,
     "metadata": {},
     "output_type": "execute_result"
    }
   ],
   "source": [
    "df.HighBlood.value_counts()"
   ]
  },
  {
   "cell_type": "code",
   "execution_count": 17,
   "id": "c8203478-b4c2-4438-9294-329152aa4299",
   "metadata": {},
   "outputs": [
    {
     "data": {
      "text/plain": [
       "Stroke\n",
       "0    8007\n",
       "1    1993\n",
       "Name: count, dtype: int64"
      ]
     },
     "execution_count": 17,
     "metadata": {},
     "output_type": "execute_result"
    }
   ],
   "source": [
    "df.Stroke.value_counts()"
   ]
  },
  {
   "cell_type": "code",
   "execution_count": 18,
   "id": "af015385-ed08-4e5e-84a3-5ff27323ae16",
   "metadata": {},
   "outputs": [
    {
     "data": {
      "text/plain": [
       "Complication_risk\n",
       "High      3358\n",
       "Low       2125\n",
       "Medium    4517\n",
       "Name: count, dtype: int64"
      ]
     },
     "execution_count": 18,
     "metadata": {},
     "output_type": "execute_result"
    }
   ],
   "source": [
    "df.Complication_risk.value_counts().sort_index()"
   ]
  },
  {
   "cell_type": "code",
   "execution_count": 19,
   "id": "829f511c-879f-448f-b54a-fa119eadae9a",
   "metadata": {},
   "outputs": [
    {
     "data": {
      "text/plain": [
       "Overweight\n",
       "1    7094\n",
       "0    2906\n",
       "Name: count, dtype: int64"
      ]
     },
     "execution_count": 19,
     "metadata": {},
     "output_type": "execute_result"
    }
   ],
   "source": [
    "df.Overweight.value_counts()"
   ]
  },
  {
   "cell_type": "code",
   "execution_count": 20,
   "id": "fe5fb6f5-5455-45fc-8eaf-b64c41e5f1e7",
   "metadata": {},
   "outputs": [
    {
     "data": {
      "text/plain": [
       "Arthritis\n",
       "0    6426\n",
       "1    3574\n",
       "Name: count, dtype: int64"
      ]
     },
     "execution_count": 20,
     "metadata": {},
     "output_type": "execute_result"
    }
   ],
   "source": [
    "df.Arthritis.value_counts()"
   ]
  },
  {
   "cell_type": "code",
   "execution_count": 21,
   "id": "5f7642ab-55c3-4c8d-9e05-c7851c36801b",
   "metadata": {},
   "outputs": [
    {
     "data": {
      "text/plain": [
       "Diabetes\n",
       "0    7262\n",
       "1    2738\n",
       "Name: count, dtype: int64"
      ]
     },
     "execution_count": 21,
     "metadata": {},
     "output_type": "execute_result"
    }
   ],
   "source": [
    "df.Diabetes.value_counts()"
   ]
  },
  {
   "cell_type": "code",
   "execution_count": 22,
   "id": "b380f3a7-660b-48f7-9716-035825b31de5",
   "metadata": {},
   "outputs": [
    {
     "data": {
      "text/plain": [
       "Hyperlipidemia\n",
       "0    6628\n",
       "1    3372\n",
       "Name: count, dtype: int64"
      ]
     },
     "execution_count": 22,
     "metadata": {},
     "output_type": "execute_result"
    }
   ],
   "source": [
    "df.Hyperlipidemia.value_counts()"
   ]
  },
  {
   "cell_type": "code",
   "execution_count": 23,
   "id": "613f6360-e9cf-40a0-b98a-c12f5822f711",
   "metadata": {},
   "outputs": [
    {
     "data": {
      "text/plain": [
       "Anxiety\n",
       "0    6785\n",
       "1    3215\n",
       "Name: count, dtype: int64"
      ]
     },
     "execution_count": 23,
     "metadata": {},
     "output_type": "execute_result"
    }
   ],
   "source": [
    "df.Anxiety.value_counts()"
   ]
  },
  {
   "cell_type": "code",
   "execution_count": 24,
   "id": "f797fec1-e806-46f4-8335-d73b9a9a1aed",
   "metadata": {},
   "outputs": [
    {
     "data": {
      "text/plain": [
       "Allergic_rhinitis\n",
       "0    6059\n",
       "1    3941\n",
       "Name: count, dtype: int64"
      ]
     },
     "execution_count": 24,
     "metadata": {},
     "output_type": "execute_result"
    }
   ],
   "source": [
    "df.Allergic_rhinitis.value_counts()"
   ]
  },
  {
   "cell_type": "code",
   "execution_count": 25,
   "id": "7fdb3248-9588-40af-b745-bf56dca75261",
   "metadata": {},
   "outputs": [
    {
     "data": {
      "text/plain": [
       "Reflux_esophagitis\n",
       "0    5865\n",
       "1    4135\n",
       "Name: count, dtype: int64"
      ]
     },
     "execution_count": 25,
     "metadata": {},
     "output_type": "execute_result"
    }
   ],
   "source": [
    "df.Reflux_esophagitis.value_counts()"
   ]
  },
  {
   "cell_type": "code",
   "execution_count": 26,
   "id": "6752a494-94d9-4fa9-91b9-9f4c96e6581b",
   "metadata": {},
   "outputs": [
    {
     "data": {
      "text/plain": [
       "Asthma\n",
       "0    7107\n",
       "1    2893\n",
       "Name: count, dtype: int64"
      ]
     },
     "execution_count": 26,
     "metadata": {},
     "output_type": "execute_result"
    }
   ],
   "source": [
    "df.Asthma.value_counts()"
   ]
  },
  {
   "cell_type": "code",
   "execution_count": 27,
   "id": "6e5e2d4a-b7d7-4a86-8cb9-d06556260067",
   "metadata": {},
   "outputs": [
    {
     "data": {
      "text/plain": [
       "count    10000.000000\n",
       "mean        34.455299\n",
       "std         26.309341\n",
       "min          1.001981\n",
       "25%          7.896215\n",
       "50%         35.836244\n",
       "75%         61.161020\n",
       "max         71.981490\n",
       "Name: Initial_days, dtype: float64"
      ]
     },
     "execution_count": 27,
     "metadata": {},
     "output_type": "execute_result"
    }
   ],
   "source": [
    "df.Initial_days.describe()"
   ]
  },
  {
   "cell_type": "code",
   "execution_count": 28,
   "id": "720827a8-22af-4423-bc4a-b0275ac41889",
   "metadata": {},
   "outputs": [
    {
     "name": "stdout",
     "output_type": "stream",
     "text": [
      "<class 'pandas.core.frame.DataFrame'>\n",
      "Index: 10000 entries, 1 to 10000\n",
      "Data columns (total 49 columns):\n",
      " #   Column              Non-Null Count  Dtype   \n",
      "---  ------              --------------  -----   \n",
      " 0   Customer_id         10000 non-null  object  \n",
      " 1   Interaction         10000 non-null  object  \n",
      " 2   UID                 10000 non-null  object  \n",
      " 3   City                10000 non-null  object  \n",
      " 4   State               10000 non-null  object  \n",
      " 5   County              10000 non-null  object  \n",
      " 6   Zip                 10000 non-null  object  \n",
      " 7   Lat                 10000 non-null  float64 \n",
      " 8   Lng                 10000 non-null  float64 \n",
      " 9   Population          10000 non-null  int64   \n",
      " 10  Area                10000 non-null  category\n",
      " 11  TimeZone            10000 non-null  category\n",
      " 12  Job                 10000 non-null  object  \n",
      " 13  Children            10000 non-null  int64   \n",
      " 14  Age                 10000 non-null  int64   \n",
      " 15  Income              10000 non-null  int64   \n",
      " 16  Marital             10000 non-null  category\n",
      " 17  Gender              10000 non-null  category\n",
      " 18  ReAdmis             10000 non-null  int64   \n",
      " 19  VitD_levels         10000 non-null  float64 \n",
      " 20  Doc_visits          10000 non-null  int64   \n",
      " 21  Full_meals_eaten    10000 non-null  int64   \n",
      " 22  vitD_supp           10000 non-null  int64   \n",
      " 23  Soft_drink          10000 non-null  int64   \n",
      " 24  Initial_admin       10000 non-null  category\n",
      " 25  HighBlood           10000 non-null  int64   \n",
      " 26  Stroke              10000 non-null  int64   \n",
      " 27  Complication_risk   10000 non-null  category\n",
      " 28  Overweight          10000 non-null  int64   \n",
      " 29  Arthritis           10000 non-null  int64   \n",
      " 30  Diabetes            10000 non-null  int64   \n",
      " 31  Hyperlipidemia      10000 non-null  int64   \n",
      " 32  BackPain            10000 non-null  int64   \n",
      " 33  Anxiety             10000 non-null  int64   \n",
      " 34  Allergic_rhinitis   10000 non-null  int64   \n",
      " 35  Reflux_esophagitis  10000 non-null  int64   \n",
      " 36  Asthma              10000 non-null  int64   \n",
      " 37  Services            10000 non-null  category\n",
      " 38  Initial_days        10000 non-null  float64 \n",
      " 39  TotalCharge         10000 non-null  float64 \n",
      " 40  Additional_charges  10000 non-null  float64 \n",
      " 41  Item1               10000 non-null  category\n",
      " 42  Item2               10000 non-null  category\n",
      " 43  Item3               10000 non-null  category\n",
      " 44  Item4               10000 non-null  category\n",
      " 45  Item5               10000 non-null  category\n",
      " 46  Item6               10000 non-null  category\n",
      " 47  Item7               10000 non-null  category\n",
      " 48  Item8               10000 non-null  category\n",
      "dtypes: category(15), float64(6), int64(20), object(8)\n",
      "memory usage: 2.8+ MB\n"
     ]
    }
   ],
   "source": [
    "df.info()"
   ]
  },
  {
   "cell_type": "code",
   "execution_count": 29,
   "id": "07da6e2c-bc40-4f63-8016-efa85c05db95",
   "metadata": {},
   "outputs": [
    {
     "name": "stdout",
     "output_type": "stream",
     "text": [
      "OneHotEncoder()\n",
      "[array(['Rural', 'Suburban', 'Urban'], dtype=object), array(['Female', 'Male', 'Nonbinary'], dtype=object), array(['Elective Admission', 'Emergency Admission',\n",
      "       'Observation Admission'], dtype=object), array(['High', 'Low', 'Medium'], dtype=object)]\n"
     ]
    }
   ],
   "source": [
    "#Load Encoder to create Dummy Variables for KNN Classification\n",
    "OneHotEncode = OneHotEncoder()\n",
    "print(OneHotEncode)\n",
    "\n",
    "#OneHotencode Categorical Columns Area, Gender, Initial Admin, and Complication Risk\n",
    "encoded_dummies = OneHotEncode.fit_transform(df[[\"Area\", \"Gender\", \"Initial_admin\", \"Complication_risk\"]]).toarray()\n",
    "\n",
    "#Print the categories\n",
    "categories = OneHotEncode.categories_\n",
    "print(categories)"
   ]
  },
  {
   "cell_type": "code",
   "execution_count": 30,
   "id": "b868b66b-66b5-4843-8598-b5e400138712",
   "metadata": {},
   "outputs": [
    {
     "name": "stdout",
     "output_type": "stream",
     "text": [
      "  Customer_id                           Interaction  \\\n",
      "1     C412403  8cd49b13-f45a-4b47-a2bd-173ffa932c2f   \n",
      "2     Z919181  d2450b70-0337-4406-bdbb-bc1037f1734c   \n",
      "3     F995323  a2057123-abf5-4a2c-abad-8ffe33512562   \n",
      "4     A879973  1dec528d-eb34-4079-adce-0d7a40e82205   \n",
      "5     C544523  5885f56b-d6da-43a3-8760-83583af94266   \n",
      "\n",
      "                                UID          City State        County    Zip  \\\n",
      "1  3a83ddb66e2ae73798bdf1d705dc0932           Eva    AL        Morgan  35621   \n",
      "2  176354c5eef714957d486009feabf195      Marianna    FL       Jackson  32446   \n",
      "3  e19a0fa00aeda885b8a436757e889bc9   Sioux Falls    SD     Minnehaha  57110   \n",
      "4  cd17d7b6d152cb6f23957346d11c3f07  New Richland    MN        Waseca  56072   \n",
      "5  d2f0425877b10ed6bb381f3e2579424a    West Point    VA  King William  23181   \n",
      "\n",
      "        Lat       Lng  Population  ... Area_Urban Gender_Female Gender_Male  \\\n",
      "1  34.34960 -86.72508      2951.0  ...        1.0           1.0         0.0   \n",
      "2  30.84513 -85.22907     11303.0  ...        0.0           1.0         0.0   \n",
      "3  43.54321 -96.63772     17125.0  ...        0.0           0.0         1.0   \n",
      "4  43.89744 -93.51479      2162.0  ...        0.0           1.0         0.0   \n",
      "5  37.59894 -76.88958      5287.0  ...        1.0           0.0         1.0   \n",
      "\n",
      "   Gender_Nonbinary  Initial_admin_Elective Admission  \\\n",
      "1               0.0                               0.0   \n",
      "2               0.0                               1.0   \n",
      "3               0.0                               1.0   \n",
      "4               0.0                               1.0   \n",
      "5               0.0                               0.0   \n",
      "\n",
      "   Initial_admin_Emergency Admission Initial_admin_Observation Admission  \\\n",
      "1                                1.0                                 0.0   \n",
      "2                                0.0                                 0.0   \n",
      "3                                0.0                                 0.0   \n",
      "4                                0.0                                 0.0   \n",
      "5                                0.0                                 1.0   \n",
      "\n",
      "  Complication_risk_High  Complication_risk_Low  Complication_risk_Medium  \n",
      "1                    1.0                    0.0                       0.0  \n",
      "2                    0.0                    0.0                       1.0  \n",
      "3                    0.0                    0.0                       1.0  \n",
      "4                    0.0                    1.0                       0.0  \n",
      "5                    0.0                    0.0                       1.0  \n",
      "\n",
      "[5 rows x 61 columns]\n"
     ]
    }
   ],
   "source": [
    "#Convert the encoded array to a DataFrame\n",
    "encoded_df = pd.DataFrame(encoded_dummies, columns=OneHotEncode.get_feature_names_out([\"Area\", \"Gender\", \"Initial_admin\", \"Complication_risk\"]))\n",
    "\n",
    "#Concatenate the original DataFrame and the new DataFrame\n",
    "df_combined = pd.concat([df, encoded_df], axis=1)\n",
    "\n",
    "print(df_combined.head())"
   ]
  },
  {
   "cell_type": "code",
   "execution_count": 31,
   "id": "62dc630b-b6ef-4451-b3d3-d1f8e56eb3c0",
   "metadata": {},
   "outputs": [
    {
     "name": "stdout",
     "output_type": "stream",
     "text": [
      "<class 'pandas.core.frame.DataFrame'>\n",
      "Index: 10001 entries, 1 to 0\n",
      "Data columns (total 61 columns):\n",
      " #   Column                               Non-Null Count  Dtype   \n",
      "---  ------                               --------------  -----   \n",
      " 0   Customer_id                          10000 non-null  object  \n",
      " 1   Interaction                          10000 non-null  object  \n",
      " 2   UID                                  10000 non-null  object  \n",
      " 3   City                                 10000 non-null  object  \n",
      " 4   State                                10000 non-null  object  \n",
      " 5   County                               10000 non-null  object  \n",
      " 6   Zip                                  10000 non-null  object  \n",
      " 7   Lat                                  10000 non-null  float64 \n",
      " 8   Lng                                  10000 non-null  float64 \n",
      " 9   Population                           10000 non-null  float64 \n",
      " 10  Area                                 10000 non-null  category\n",
      " 11  TimeZone                             10000 non-null  category\n",
      " 12  Job                                  10000 non-null  object  \n",
      " 13  Children                             10000 non-null  float64 \n",
      " 14  Age                                  10000 non-null  float64 \n",
      " 15  Income                               10000 non-null  float64 \n",
      " 16  Marital                              10000 non-null  category\n",
      " 17  Gender                               10000 non-null  category\n",
      " 18  ReAdmis                              10000 non-null  float64 \n",
      " 19  VitD_levels                          10000 non-null  float64 \n",
      " 20  Doc_visits                           10000 non-null  float64 \n",
      " 21  Full_meals_eaten                     10000 non-null  float64 \n",
      " 22  vitD_supp                            10000 non-null  float64 \n",
      " 23  Soft_drink                           10000 non-null  float64 \n",
      " 24  Initial_admin                        10000 non-null  category\n",
      " 25  HighBlood                            10000 non-null  float64 \n",
      " 26  Stroke                               10000 non-null  float64 \n",
      " 27  Complication_risk                    10000 non-null  category\n",
      " 28  Overweight                           10000 non-null  float64 \n",
      " 29  Arthritis                            10000 non-null  float64 \n",
      " 30  Diabetes                             10000 non-null  float64 \n",
      " 31  Hyperlipidemia                       10000 non-null  float64 \n",
      " 32  BackPain                             10000 non-null  float64 \n",
      " 33  Anxiety                              10000 non-null  float64 \n",
      " 34  Allergic_rhinitis                    10000 non-null  float64 \n",
      " 35  Reflux_esophagitis                   10000 non-null  float64 \n",
      " 36  Asthma                               10000 non-null  float64 \n",
      " 37  Services                             10000 non-null  category\n",
      " 38  Initial_days                         10000 non-null  float64 \n",
      " 39  TotalCharge                          10000 non-null  float64 \n",
      " 40  Additional_charges                   10000 non-null  float64 \n",
      " 41  Item1                                10000 non-null  category\n",
      " 42  Item2                                10000 non-null  category\n",
      " 43  Item3                                10000 non-null  category\n",
      " 44  Item4                                10000 non-null  category\n",
      " 45  Item5                                10000 non-null  category\n",
      " 46  Item6                                10000 non-null  category\n",
      " 47  Item7                                10000 non-null  category\n",
      " 48  Item8                                10000 non-null  category\n",
      " 49  Area_Rural                           10000 non-null  float64 \n",
      " 50  Area_Suburban                        10000 non-null  float64 \n",
      " 51  Area_Urban                           10000 non-null  float64 \n",
      " 52  Gender_Female                        10000 non-null  float64 \n",
      " 53  Gender_Male                          10000 non-null  float64 \n",
      " 54  Gender_Nonbinary                     10000 non-null  float64 \n",
      " 55  Initial_admin_Elective Admission     10000 non-null  float64 \n",
      " 56  Initial_admin_Emergency Admission    10000 non-null  float64 \n",
      " 57  Initial_admin_Observation Admission  10000 non-null  float64 \n",
      " 58  Complication_risk_High               10000 non-null  float64 \n",
      " 59  Complication_risk_Low                10000 non-null  float64 \n",
      " 60  Complication_risk_Medium             10000 non-null  float64 \n",
      "dtypes: category(15), float64(38), object(8)\n",
      "memory usage: 3.7+ MB\n"
     ]
    }
   ],
   "source": [
    "df_combined.info()"
   ]
  },
  {
   "cell_type": "code",
   "execution_count": 32,
   "id": "0a6992db-897d-4217-89fd-2fc285aa20ab",
   "metadata": {},
   "outputs": [],
   "source": [
    "#Save dataframe to CSV, ignore index\n",
    "df_combined.to_csv('D209_task2_full_clean_JHOSEY.csv', index=False)"
   ]
  },
  {
   "cell_type": "code",
   "execution_count": 33,
   "id": "6e29b685-b419-4d89-8de1-15bdef5bf496",
   "metadata": {},
   "outputs": [
    {
     "data": {
      "text/html": [
       "<div>\n",
       "<style scoped>\n",
       "    .dataframe tbody tr th:only-of-type {\n",
       "        vertical-align: middle;\n",
       "    }\n",
       "\n",
       "    .dataframe tbody tr th {\n",
       "        vertical-align: top;\n",
       "    }\n",
       "\n",
       "    .dataframe thead th {\n",
       "        text-align: right;\n",
       "    }\n",
       "</style>\n",
       "<table border=\"1\" class=\"dataframe\">\n",
       "  <thead>\n",
       "    <tr style=\"text-align: right;\">\n",
       "      <th></th>\n",
       "      <th>Children</th>\n",
       "      <th>Age</th>\n",
       "      <th>ReAdmis</th>\n",
       "      <th>VitD_levels</th>\n",
       "      <th>Doc_visits</th>\n",
       "      <th>Full_meals_eaten</th>\n",
       "      <th>vitD_supp</th>\n",
       "      <th>Soft_drink</th>\n",
       "      <th>HighBlood</th>\n",
       "      <th>Stroke</th>\n",
       "      <th>...</th>\n",
       "      <th>Area_Urban</th>\n",
       "      <th>Gender_Female</th>\n",
       "      <th>Gender_Male</th>\n",
       "      <th>Gender_Nonbinary</th>\n",
       "      <th>Initial_admin_Elective Admission</th>\n",
       "      <th>Initial_admin_Emergency Admission</th>\n",
       "      <th>Initial_admin_Observation Admission</th>\n",
       "      <th>Complication_risk_High</th>\n",
       "      <th>Complication_risk_Low</th>\n",
       "      <th>Complication_risk_Medium</th>\n",
       "    </tr>\n",
       "  </thead>\n",
       "  <tbody>\n",
       "    <tr>\n",
       "      <th>1</th>\n",
       "      <td>1.0</td>\n",
       "      <td>53.0</td>\n",
       "      <td>0.0</td>\n",
       "      <td>19.141466</td>\n",
       "      <td>6.0</td>\n",
       "      <td>0.0</td>\n",
       "      <td>0.0</td>\n",
       "      <td>0.0</td>\n",
       "      <td>1.0</td>\n",
       "      <td>0.0</td>\n",
       "      <td>...</td>\n",
       "      <td>1.0</td>\n",
       "      <td>1.0</td>\n",
       "      <td>0.0</td>\n",
       "      <td>0.0</td>\n",
       "      <td>0.0</td>\n",
       "      <td>1.0</td>\n",
       "      <td>0.0</td>\n",
       "      <td>1.0</td>\n",
       "      <td>0.0</td>\n",
       "      <td>0.0</td>\n",
       "    </tr>\n",
       "    <tr>\n",
       "      <th>2</th>\n",
       "      <td>3.0</td>\n",
       "      <td>51.0</td>\n",
       "      <td>0.0</td>\n",
       "      <td>18.940352</td>\n",
       "      <td>4.0</td>\n",
       "      <td>2.0</td>\n",
       "      <td>1.0</td>\n",
       "      <td>0.0</td>\n",
       "      <td>1.0</td>\n",
       "      <td>0.0</td>\n",
       "      <td>...</td>\n",
       "      <td>0.0</td>\n",
       "      <td>1.0</td>\n",
       "      <td>0.0</td>\n",
       "      <td>0.0</td>\n",
       "      <td>1.0</td>\n",
       "      <td>0.0</td>\n",
       "      <td>0.0</td>\n",
       "      <td>0.0</td>\n",
       "      <td>0.0</td>\n",
       "      <td>1.0</td>\n",
       "    </tr>\n",
       "    <tr>\n",
       "      <th>3</th>\n",
       "      <td>3.0</td>\n",
       "      <td>53.0</td>\n",
       "      <td>0.0</td>\n",
       "      <td>18.057507</td>\n",
       "      <td>4.0</td>\n",
       "      <td>1.0</td>\n",
       "      <td>0.0</td>\n",
       "      <td>0.0</td>\n",
       "      <td>1.0</td>\n",
       "      <td>0.0</td>\n",
       "      <td>...</td>\n",
       "      <td>0.0</td>\n",
       "      <td>0.0</td>\n",
       "      <td>1.0</td>\n",
       "      <td>0.0</td>\n",
       "      <td>1.0</td>\n",
       "      <td>0.0</td>\n",
       "      <td>0.0</td>\n",
       "      <td>0.0</td>\n",
       "      <td>0.0</td>\n",
       "      <td>1.0</td>\n",
       "    </tr>\n",
       "    <tr>\n",
       "      <th>4</th>\n",
       "      <td>0.0</td>\n",
       "      <td>78.0</td>\n",
       "      <td>0.0</td>\n",
       "      <td>16.576858</td>\n",
       "      <td>4.0</td>\n",
       "      <td>1.0</td>\n",
       "      <td>0.0</td>\n",
       "      <td>0.0</td>\n",
       "      <td>0.0</td>\n",
       "      <td>1.0</td>\n",
       "      <td>...</td>\n",
       "      <td>0.0</td>\n",
       "      <td>1.0</td>\n",
       "      <td>0.0</td>\n",
       "      <td>0.0</td>\n",
       "      <td>1.0</td>\n",
       "      <td>0.0</td>\n",
       "      <td>0.0</td>\n",
       "      <td>0.0</td>\n",
       "      <td>1.0</td>\n",
       "      <td>0.0</td>\n",
       "    </tr>\n",
       "    <tr>\n",
       "      <th>5</th>\n",
       "      <td>1.0</td>\n",
       "      <td>22.0</td>\n",
       "      <td>0.0</td>\n",
       "      <td>17.439069</td>\n",
       "      <td>5.0</td>\n",
       "      <td>0.0</td>\n",
       "      <td>2.0</td>\n",
       "      <td>1.0</td>\n",
       "      <td>0.0</td>\n",
       "      <td>0.0</td>\n",
       "      <td>...</td>\n",
       "      <td>1.0</td>\n",
       "      <td>0.0</td>\n",
       "      <td>1.0</td>\n",
       "      <td>0.0</td>\n",
       "      <td>0.0</td>\n",
       "      <td>0.0</td>\n",
       "      <td>1.0</td>\n",
       "      <td>0.0</td>\n",
       "      <td>0.0</td>\n",
       "      <td>1.0</td>\n",
       "    </tr>\n",
       "  </tbody>\n",
       "</table>\n",
       "<p>5 rows × 32 columns</p>\n",
       "</div>"
      ],
      "text/plain": [
       "   Children   Age  ReAdmis  VitD_levels  Doc_visits  Full_meals_eaten  \\\n",
       "1       1.0  53.0      0.0    19.141466         6.0               0.0   \n",
       "2       3.0  51.0      0.0    18.940352         4.0               2.0   \n",
       "3       3.0  53.0      0.0    18.057507         4.0               1.0   \n",
       "4       0.0  78.0      0.0    16.576858         4.0               1.0   \n",
       "5       1.0  22.0      0.0    17.439069         5.0               0.0   \n",
       "\n",
       "   vitD_supp  Soft_drink  HighBlood  Stroke  ...  Area_Urban  Gender_Female  \\\n",
       "1        0.0         0.0        1.0     0.0  ...         1.0            1.0   \n",
       "2        1.0         0.0        1.0     0.0  ...         0.0            1.0   \n",
       "3        0.0         0.0        1.0     0.0  ...         0.0            0.0   \n",
       "4        0.0         0.0        0.0     1.0  ...         0.0            1.0   \n",
       "5        2.0         1.0        0.0     0.0  ...         1.0            0.0   \n",
       "\n",
       "   Gender_Male  Gender_Nonbinary  Initial_admin_Elective Admission  \\\n",
       "1          0.0               0.0                               0.0   \n",
       "2          0.0               0.0                               1.0   \n",
       "3          1.0               0.0                               1.0   \n",
       "4          0.0               0.0                               1.0   \n",
       "5          1.0               0.0                               0.0   \n",
       "\n",
       "   Initial_admin_Emergency Admission  Initial_admin_Observation Admission  \\\n",
       "1                                1.0                                  0.0   \n",
       "2                                0.0                                  0.0   \n",
       "3                                0.0                                  0.0   \n",
       "4                                0.0                                  0.0   \n",
       "5                                0.0                                  1.0   \n",
       "\n",
       "   Complication_risk_High  Complication_risk_Low  Complication_risk_Medium  \n",
       "1                     1.0                    0.0                       0.0  \n",
       "2                     0.0                    0.0                       1.0  \n",
       "3                     0.0                    0.0                       1.0  \n",
       "4                     0.0                    1.0                       0.0  \n",
       "5                     0.0                    0.0                       1.0  \n",
       "\n",
       "[5 rows x 32 columns]"
      ]
     },
     "execution_count": 33,
     "metadata": {},
     "output_type": "execute_result"
    }
   ],
   "source": [
    "#Drop undesired columns\n",
    "df_combined.drop([\"Customer_id\", \"Interaction\", \"UID\", \"City\", \"State\", \"County\", \"Zip\", \"Lat\", \"Lng\", \n",
    "         \"Population\", \"Area\", \"TimeZone\", \"Job\", \"Income\", \"Marital\", \"Gender\", \"Initial_admin\",\n",
    "         \"Complication_risk\", \"Services\", \"TotalCharge\", \"Additional_charges\", \"Item1\", \"Item2\", \n",
    "         \"Item3\", \"Item4\", \"Item5\", \"Item6\", \"Item7\", \"Item8\"], axis=1, inplace=True)\n",
    "\n",
    "#Check dataframe\n",
    "df_combined.head()"
   ]
  },
  {
   "cell_type": "markdown",
   "id": "da47a66a-10bc-4545-a7b3-9087a50ce6c6",
   "metadata": {},
   "source": [
    "Separating Into Testing and Training Datasets"
   ]
  },
  {
   "cell_type": "code",
   "execution_count": 34,
   "id": "1452e9ba-f0db-4cf1-bb58-e306a9e59813",
   "metadata": {},
   "outputs": [],
   "source": [
    "#Separate the X variables (explanatory) from the Y variable (response) into different dataframes\n",
    "df_X = df_combined.drop([\"ReAdmis\"], axis=1).copy()\n",
    "df_y = df_combined[\"ReAdmis\"].copy()"
   ]
  },
  {
   "cell_type": "code",
   "execution_count": 35,
   "id": "29633043-97d0-4479-9ca7-50d2da980b1f",
   "metadata": {},
   "outputs": [
    {
     "data": {
      "text/plain": [
       "1        0.0\n",
       "2        0.0\n",
       "3        0.0\n",
       "4        0.0\n",
       "5        0.0\n",
       "        ... \n",
       "9997     1.0\n",
       "9998     1.0\n",
       "9999     1.0\n",
       "10000    1.0\n",
       "0        NaN\n",
       "Name: ReAdmis, Length: 10001, dtype: float64"
      ]
     },
     "execution_count": 35,
     "metadata": {},
     "output_type": "execute_result"
    }
   ],
   "source": [
    "#Y Variable - ReAdmis\n",
    "df_y"
   ]
  },
  {
   "cell_type": "code",
   "execution_count": 36,
   "id": "76139532-c97e-4522-9251-9bcc3cffa4d5",
   "metadata": {},
   "outputs": [],
   "source": [
    "#Somehow I have Nan Values and I am not sure where they are coming from so I am going to drop those rows\n",
    "#Drop rows with missing values in df_X\n",
    "df_X_dropped = df_X.dropna()\n",
    "df_y_dropped = df_y[df_X_dropped.index]\n",
    "\n",
    "#Drop rows with NaN values in df_y\n",
    "df_y_dropped = df_y.dropna()\n",
    "df_X_dropped = df_X.loc[df_y_dropped.index]"
   ]
  },
  {
   "cell_type": "code",
   "execution_count": 37,
   "id": "3f02493a-88a7-4ca1-8b1f-ad67461c30f9",
   "metadata": {},
   "outputs": [
    {
     "name": "stdout",
     "output_type": "stream",
     "text": [
      "   Children   Age  VitD_levels  Doc_visits  Full_meals_eaten  vitD_supp  \\\n",
      "1       1.0  53.0    19.141466         6.0               0.0        0.0   \n",
      "2       3.0  51.0    18.940352         4.0               2.0        1.0   \n",
      "3       3.0  53.0    18.057507         4.0               1.0        0.0   \n",
      "4       0.0  78.0    16.576858         4.0               1.0        0.0   \n",
      "5       1.0  22.0    17.439069         5.0               0.0        2.0   \n",
      "\n",
      "   Soft_drink  HighBlood  Stroke  Overweight  ...  Area_Urban  Gender_Female  \\\n",
      "1         0.0        1.0     0.0         0.0  ...         1.0            1.0   \n",
      "2         0.0        1.0     0.0         1.0  ...         0.0            1.0   \n",
      "3         0.0        1.0     0.0         1.0  ...         0.0            0.0   \n",
      "4         0.0        0.0     1.0         0.0  ...         0.0            1.0   \n",
      "5         1.0        0.0     0.0         0.0  ...         1.0            0.0   \n",
      "\n",
      "   Gender_Male  Gender_Nonbinary  Initial_admin_Elective Admission  \\\n",
      "1          0.0               0.0                               0.0   \n",
      "2          0.0               0.0                               1.0   \n",
      "3          1.0               0.0                               1.0   \n",
      "4          0.0               0.0                               1.0   \n",
      "5          1.0               0.0                               0.0   \n",
      "\n",
      "   Initial_admin_Emergency Admission  Initial_admin_Observation Admission  \\\n",
      "1                                1.0                                  0.0   \n",
      "2                                0.0                                  0.0   \n",
      "3                                0.0                                  0.0   \n",
      "4                                0.0                                  0.0   \n",
      "5                                0.0                                  1.0   \n",
      "\n",
      "   Complication_risk_High  Complication_risk_Low  Complication_risk_Medium  \n",
      "1                     1.0                    0.0                       0.0  \n",
      "2                     0.0                    0.0                       1.0  \n",
      "3                     0.0                    0.0                       1.0  \n",
      "4                     0.0                    1.0                       0.0  \n",
      "5                     0.0                    0.0                       1.0  \n",
      "\n",
      "[5 rows x 31 columns]\n"
     ]
    }
   ],
   "source": [
    "print(df_X_dropped.head())"
   ]
  },
  {
   "cell_type": "code",
   "execution_count": 38,
   "id": "4d04ace1-bb2e-497b-8491-8d878d78343a",
   "metadata": {},
   "outputs": [
    {
     "name": "stdout",
     "output_type": "stream",
     "text": [
      "1    0.0\n",
      "2    0.0\n",
      "3    0.0\n",
      "4    0.0\n",
      "5    0.0\n",
      "Name: ReAdmis, dtype: float64\n"
     ]
    }
   ],
   "source": [
    "print(df_y_dropped.head())"
   ]
  },
  {
   "cell_type": "code",
   "execution_count": 39,
   "id": "9c3ebd39-bec1-4bcb-8597-8a25787a0ee9",
   "metadata": {},
   "outputs": [
    {
     "name": "stdout",
     "output_type": "stream",
     "text": [
      "<class 'pandas.core.series.Series'>\n",
      "Index: 10000 entries, 1 to 10000\n",
      "Series name: ReAdmis\n",
      "Non-Null Count  Dtype  \n",
      "--------------  -----  \n",
      "10000 non-null  float64\n",
      "dtypes: float64(1)\n",
      "memory usage: 156.2 KB\n",
      "None\n"
     ]
    }
   ],
   "source": [
    "print(df_y_dropped.info())"
   ]
  },
  {
   "cell_type": "code",
   "execution_count": 40,
   "id": "41a7e66f-1fba-43d4-86c5-8b32a0b150f0",
   "metadata": {},
   "outputs": [
    {
     "name": "stdout",
     "output_type": "stream",
     "text": [
      "<class 'pandas.core.frame.DataFrame'>\n",
      "Index: 10000 entries, 1 to 10000\n",
      "Data columns (total 31 columns):\n",
      " #   Column                               Non-Null Count  Dtype  \n",
      "---  ------                               --------------  -----  \n",
      " 0   Children                             10000 non-null  float64\n",
      " 1   Age                                  10000 non-null  float64\n",
      " 2   VitD_levels                          10000 non-null  float64\n",
      " 3   Doc_visits                           10000 non-null  float64\n",
      " 4   Full_meals_eaten                     10000 non-null  float64\n",
      " 5   vitD_supp                            10000 non-null  float64\n",
      " 6   Soft_drink                           10000 non-null  float64\n",
      " 7   HighBlood                            10000 non-null  float64\n",
      " 8   Stroke                               10000 non-null  float64\n",
      " 9   Overweight                           10000 non-null  float64\n",
      " 10  Arthritis                            10000 non-null  float64\n",
      " 11  Diabetes                             10000 non-null  float64\n",
      " 12  Hyperlipidemia                       10000 non-null  float64\n",
      " 13  BackPain                             10000 non-null  float64\n",
      " 14  Anxiety                              10000 non-null  float64\n",
      " 15  Allergic_rhinitis                    10000 non-null  float64\n",
      " 16  Reflux_esophagitis                   10000 non-null  float64\n",
      " 17  Asthma                               10000 non-null  float64\n",
      " 18  Initial_days                         10000 non-null  float64\n",
      " 19  Area_Rural                           9999 non-null   float64\n",
      " 20  Area_Suburban                        9999 non-null   float64\n",
      " 21  Area_Urban                           9999 non-null   float64\n",
      " 22  Gender_Female                        9999 non-null   float64\n",
      " 23  Gender_Male                          9999 non-null   float64\n",
      " 24  Gender_Nonbinary                     9999 non-null   float64\n",
      " 25  Initial_admin_Elective Admission     9999 non-null   float64\n",
      " 26  Initial_admin_Emergency Admission    9999 non-null   float64\n",
      " 27  Initial_admin_Observation Admission  9999 non-null   float64\n",
      " 28  Complication_risk_High               9999 non-null   float64\n",
      " 29  Complication_risk_Low                9999 non-null   float64\n",
      " 30  Complication_risk_Medium             9999 non-null   float64\n",
      "dtypes: float64(31)\n",
      "memory usage: 2.4 MB\n",
      "None\n"
     ]
    }
   ],
   "source": [
    "print(df_X_dropped.info())"
   ]
  },
  {
   "cell_type": "code",
   "execution_count": 41,
   "id": "90b7befc-9ae3-464f-aae5-fa473304bd09",
   "metadata": {},
   "outputs": [],
   "source": [
    "#Defining/Renaming dataframes\n",
    "X = df_X_dropped\n",
    "y = df_y_dropped\n",
    "\n",
    "#Split the data into train and test sets, 70% train, 30% test, use stratify to maintain proportions\n",
    "X_train, X_test, y_train, y_test = train_test_split(X, y, train_size = 0.7, test_size=0.3, \n",
    "                    random_state = 42, stratify = y)"
   ]
  },
  {
   "cell_type": "code",
   "execution_count": 42,
   "id": "b3c0d168-7c85-4c1b-93a5-01327e7ac1fa",
   "metadata": {},
   "outputs": [],
   "source": [
    "# Save each of the four data sets to CSV to satisfy rubric\n",
    "X_train.to_csv('D209_task2_Xtrain_JHOSEY.csv', index=False)\n",
    "X_test.to_csv('D209_task2_Xtest_JHOSEY.csv', index=False)\n",
    "y_train.to_csv('D209_task2_ytrain_JHOSEY.csv', index=False)\n",
    "y_test.to_csv('D209_task2_ytest_JHOSEY.csv', index=False)"
   ]
  },
  {
   "cell_type": "code",
   "execution_count": 43,
   "id": "aecc37b1-5a9e-42c5-9dd2-aef25ad98959",
   "metadata": {},
   "outputs": [
    {
     "name": "stdout",
     "output_type": "stream",
     "text": [
      "Test set accuracy of best decision tree: 0.98\n",
      "Test set ROC AUC score: 0.998\n"
     ]
    }
   ],
   "source": [
    "#Hyper Parameter Tuning\n",
    "#Define params_dt\n",
    "params_dt = {\n",
    "    'max_depth' : [1, 2, 3, 4, 5, 6, 7, 8, 9, 10],\n",
    "    'min_samples_leaf' : [0.04, 0.06, 0.08, 0.10, 0.12, 0.14, 0.16, 0.18, 0.20, 0.22]\n",
    "}\n",
    "\n",
    "#Instantiate dt\n",
    "initial_dt = DecisionTreeClassifier(random_state=42)\n",
    "\n",
    "#Instantiate grid_dt\n",
    "grid_dt = GridSearchCV(estimator=initial_dt,\n",
    "                       param_grid=params_dt,\n",
    "                       scoring='roc_auc',\n",
    "                       cv=5,\n",
    "                       n_jobs=-1)\n",
    "\n",
    "#Fit grid search to training model\n",
    "grid_dt.fit(X_train, y_train)\n",
    "\n",
    "#Extract the best estimator\n",
    "best_model = grid_dt.best_estimator_\n",
    "\n",
    "#Predict values for test set\n",
    "initial_y_pred = best_model.predict(X_test)\n",
    "\n",
    "#Generate accuracy report for this model\n",
    "acc_test = accuracy_score(y_test, initial_y_pred)\n",
    "print('Test set accuracy of best decision tree: {:.2f}'.format(acc_test)) \n",
    "\n",
    "#Predict the test set probabilities of the positive class\n",
    "initial_y_pred_proba = best_model.predict_proba(X_test)[:,1]\n",
    "\n",
    "#Compute test_roc_auc\n",
    "initial_roc_auc = roc_auc_score(y_test, initial_y_pred_proba)\n",
    "\n",
    "#Print test_roc_auc\n",
    "print('Test set ROC AUC score: {:.3f}'.format(initial_roc_auc))"
   ]
  },
  {
   "cell_type": "code",
   "execution_count": 44,
   "id": "b7783015-fddd-442f-b055-205a33d70f34",
   "metadata": {},
   "outputs": [
    {
     "data": {
      "text/html": [
       "<style>#sk-container-id-1 {color: black;}#sk-container-id-1 pre{padding: 0;}#sk-container-id-1 div.sk-toggleable {background-color: white;}#sk-container-id-1 label.sk-toggleable__label {cursor: pointer;display: block;width: 100%;margin-bottom: 0;padding: 0.3em;box-sizing: border-box;text-align: center;}#sk-container-id-1 label.sk-toggleable__label-arrow:before {content: \"▸\";float: left;margin-right: 0.25em;color: #696969;}#sk-container-id-1 label.sk-toggleable__label-arrow:hover:before {color: black;}#sk-container-id-1 div.sk-estimator:hover label.sk-toggleable__label-arrow:before {color: black;}#sk-container-id-1 div.sk-toggleable__content {max-height: 0;max-width: 0;overflow: hidden;text-align: left;background-color: #f0f8ff;}#sk-container-id-1 div.sk-toggleable__content pre {margin: 0.2em;color: black;border-radius: 0.25em;background-color: #f0f8ff;}#sk-container-id-1 input.sk-toggleable__control:checked~div.sk-toggleable__content {max-height: 200px;max-width: 100%;overflow: auto;}#sk-container-id-1 input.sk-toggleable__control:checked~label.sk-toggleable__label-arrow:before {content: \"▾\";}#sk-container-id-1 div.sk-estimator input.sk-toggleable__control:checked~label.sk-toggleable__label {background-color: #d4ebff;}#sk-container-id-1 div.sk-label input.sk-toggleable__control:checked~label.sk-toggleable__label {background-color: #d4ebff;}#sk-container-id-1 input.sk-hidden--visually {border: 0;clip: rect(1px 1px 1px 1px);clip: rect(1px, 1px, 1px, 1px);height: 1px;margin: -1px;overflow: hidden;padding: 0;position: absolute;width: 1px;}#sk-container-id-1 div.sk-estimator {font-family: monospace;background-color: #f0f8ff;border: 1px dotted black;border-radius: 0.25em;box-sizing: border-box;margin-bottom: 0.5em;}#sk-container-id-1 div.sk-estimator:hover {background-color: #d4ebff;}#sk-container-id-1 div.sk-parallel-item::after {content: \"\";width: 100%;border-bottom: 1px solid gray;flex-grow: 1;}#sk-container-id-1 div.sk-label:hover label.sk-toggleable__label {background-color: #d4ebff;}#sk-container-id-1 div.sk-serial::before {content: \"\";position: absolute;border-left: 1px solid gray;box-sizing: border-box;top: 0;bottom: 0;left: 50%;z-index: 0;}#sk-container-id-1 div.sk-serial {display: flex;flex-direction: column;align-items: center;background-color: white;padding-right: 0.2em;padding-left: 0.2em;position: relative;}#sk-container-id-1 div.sk-item {position: relative;z-index: 1;}#sk-container-id-1 div.sk-parallel {display: flex;align-items: stretch;justify-content: center;background-color: white;position: relative;}#sk-container-id-1 div.sk-item::before, #sk-container-id-1 div.sk-parallel-item::before {content: \"\";position: absolute;border-left: 1px solid gray;box-sizing: border-box;top: 0;bottom: 0;left: 50%;z-index: -1;}#sk-container-id-1 div.sk-parallel-item {display: flex;flex-direction: column;z-index: 1;position: relative;background-color: white;}#sk-container-id-1 div.sk-parallel-item:first-child::after {align-self: flex-end;width: 50%;}#sk-container-id-1 div.sk-parallel-item:last-child::after {align-self: flex-start;width: 50%;}#sk-container-id-1 div.sk-parallel-item:only-child::after {width: 0;}#sk-container-id-1 div.sk-dashed-wrapped {border: 1px dashed gray;margin: 0 0.4em 0.5em 0.4em;box-sizing: border-box;padding-bottom: 0.4em;background-color: white;}#sk-container-id-1 div.sk-label label {font-family: monospace;font-weight: bold;display: inline-block;line-height: 1.2em;}#sk-container-id-1 div.sk-label-container {text-align: center;}#sk-container-id-1 div.sk-container {/* jupyter's `normalize.less` sets `[hidden] { display: none; }` but bootstrap.min.css set `[hidden] { display: none !important; }` so we also need the `!important` here to be able to override the default hidden behavior on the sphinx rendered scikit-learn.org. See: https://github.com/scikit-learn/scikit-learn/issues/21755 */display: inline-block !important;position: relative;}#sk-container-id-1 div.sk-text-repr-fallback {display: none;}</style><div id=\"sk-container-id-1\" class=\"sk-top-container\"><div class=\"sk-text-repr-fallback\"><pre>DecisionTreeClassifier(max_depth=4, min_samples_leaf=0.04, random_state=42)</pre><b>In a Jupyter environment, please rerun this cell to show the HTML representation or trust the notebook. <br />On GitHub, the HTML representation is unable to render, please try loading this page with nbviewer.org.</b></div><div class=\"sk-container\" hidden><div class=\"sk-item\"><div class=\"sk-estimator sk-toggleable\"><input class=\"sk-toggleable__control sk-hidden--visually\" id=\"sk-estimator-id-1\" type=\"checkbox\" checked><label for=\"sk-estimator-id-1\" class=\"sk-toggleable__label sk-toggleable__label-arrow\">DecisionTreeClassifier</label><div class=\"sk-toggleable__content\"><pre>DecisionTreeClassifier(max_depth=4, min_samples_leaf=0.04, random_state=42)</pre></div></div></div></div></div>"
      ],
      "text/plain": [
       "DecisionTreeClassifier(max_depth=4, min_samples_leaf=0.04, random_state=42)"
      ]
     },
     "execution_count": 44,
     "metadata": {},
     "output_type": "execute_result"
    }
   ],
   "source": [
    "best_model"
   ]
  },
  {
   "cell_type": "code",
   "execution_count": 46,
   "id": "e4648ecf-57cb-4d10-8efa-40319160cd65",
   "metadata": {},
   "outputs": [
    {
     "name": "stdout",
     "output_type": "stream",
     "text": [
      "Target: [ReAdmis: 0.0, 1.0]\n"
     ]
    },
    {
     "data": {
      "image/png": "[encoded data removed]",
      "text/plain": [
       "<Figure size 1200x800 with 1 Axes>"
      ]
     },
     "metadata": {},
     "output_type": "display_data"
    }
   ],
   "source": [
    "#Limit and Fit training data\n",
    "initial_dt = DecisionTreeClassifier(max_depth=3, random_state=42)\n",
    "initial_dt.fit(X_train, y_train)\n",
    "\n",
    "#Print the target and classes\n",
    "print('Target: [{}: {}]'.format(\"ReAdmis\", ', '.join(map(str, initial_dt.classes_))))\n",
    "\n",
    "from sklearn.tree import DecisionTreeClassifier, plot_tree\n",
    "\n",
    "#Plot the decision tree\n",
    "def plotDecisionTree(model, feature_names, class_names):\n",
    "    plt.figure(figsize=(12,8))\n",
    "    plot_tree(model, feature_names=feature_names, class_names=class_names, filled=True)\n",
    "    plt.show()\n",
    "\n",
    "plotDecisionTree(initial_dt, feature_names=X_train.columns.to_list(), class_names=list(map(str, initial_dt.classes_)))"
   ]
  },
  {
   "cell_type": "code",
   "execution_count": 47,
   "id": "4bfa6977-f4ed-4648-9e1f-e3937c8584cf",
   "metadata": {},
   "outputs": [
    {
     "name": "stdout",
     "output_type": "stream",
     "text": [
      "Test set accuracy of decision tree model: 0.98\n",
      "\n",
      "The confusion matrix for this Decision Tree model:\n",
      "Predicted Not Readmitted | Predicted Readmitted\n",
      "                   [1866   33] Actual Not Readmitted\n",
      "                   [  41 1060] Actual Readmitted\n",
      "The mean squared error of this model is: 0.024666666666666667\n",
      "The root mean squared error of this model is: 0.16\n",
      "\n",
      "\n",
      "              precision    recall  f1-score   support\n",
      "\n",
      "         0.0       0.98      0.98      0.98      1899\n",
      "         1.0       0.97      0.96      0.97      1101\n",
      "\n",
      "    accuracy                           0.98      3000\n",
      "   macro avg       0.97      0.97      0.97      3000\n",
      "weighted avg       0.98      0.98      0.98      3000\n",
      "\n",
      "\n",
      "The Area Under the Curve (AUC) score of the decision tree model is: 1.00\n"
     ]
    }
   ],
   "source": [
    "#Predict test set labels\n",
    "final_y_pred = initial_dt.predict(X_test)\n",
    "\n",
    "# Evaluate acc_test\n",
    "final_acc_test = accuracy_score(y_test, final_y_pred)\n",
    "print('Test set accuracy of decision tree model: {:.2f}'.format(final_acc_test)) \n",
    "\n",
    "# Compute the probabilities of obtaining the positive class\n",
    "final_y_pred_proba = initial_dt.predict_proba(X_test)[:,1]\n",
    "\n",
    "# Evaluate test-set roc_auc_score\n",
    "final_roc_auc = roc_auc_score(y_test, final_y_pred_proba)\n",
    "\n",
    "# Generate Confusion Matrix\n",
    "final_matrix = confusion_matrix(y_test, final_y_pred)\n",
    "print(\"\\nThe confusion matrix for this Decision Tree model:\")\n",
    "print(\"Predicted Not Readmitted | Predicted Readmitted\")\n",
    "print(f\"                   {final_matrix[0]} Actual Not Readmitted\")\n",
    "print(f\"                   {final_matrix[1]} Actual Readmitted\")\n",
    "\n",
    "# Generate mean_squared_error and root mean squared error\n",
    "mse = mean_squared_error(y_test, final_y_pred)\n",
    "root_mse = mse**(1/2)\n",
    "print(f\"The mean squared error of this model is: {mse}\")\n",
    "print(f\"The root mean squared error of this model is: {round(root_mse, 2)}\\n\\n\")\n",
    "\n",
    "# Generate classification report\n",
    "print(classification_report(y_test, final_y_pred))\n",
    "\n",
    "print('\\nThe Area Under the Curve (AUC) score of the decision tree model is: {:.2f}'.format(final_roc_auc))"
   ]
  },
  {
   "cell_type": "code",
   "execution_count": 48,
   "id": "6fe8de1b-095a-4c88-85d9-fa49c73e1a04",
   "metadata": {},
   "outputs": [
    {
     "data": {
      "image/png": "[encoded data removed]",
      "text/plain": [
       "<Figure size 640x480 with 1 Axes>"
      ]
     },
     "metadata": {},
     "output_type": "display_data"
    }
   ],
   "source": [
    "#Generate ROC plot and provide AUC score \n",
    "fpr, tpr, thresholds = roc_curve(y_test, final_y_pred_proba)\n",
    "plt.plot([0, 1], [0, 1], 'k--')\n",
    "plt.plot(fpr, tpr)\n",
    "plt.xlabel('False Positive Rate')\n",
    "plt.ylabel('True Positive Rate')\n",
    "plt.title('ROC Curve for Classification Model')\n",
    "plt.show()"
   ]
  },
  {
   "cell_type": "code",
   "execution_count": null,
   "id": "3b7e1914-c4c9-46f8-802a-3bc13fb31406",
   "metadata": {},
   "outputs": [],
   "source": []
  }
 ],
 "metadata": {
  "kernelspec": {
   "display_name": "anaconda-2024.02-py310",
   "language": "python",
   "name": "conda-env-anaconda-2024.02-py310-py"
  },
  "language_info": {
   "codemirror_mode": {
    "name": "ipython",
    "version": 3
   },
   "file_extension": ".py",
   "mimetype": "text/x-python",
   "name": "python",
   "nbconvert_exporter": "python",
   "pygments_lexer": "ipython3",
   "version": "3.10.14"
  }
 },
 "nbformat": 4,
 "nbformat_minor": 5
}
